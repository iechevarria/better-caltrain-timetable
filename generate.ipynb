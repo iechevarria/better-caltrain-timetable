{
 "cells": [
  {
   "cell_type": "code",
   "execution_count": 2,
   "metadata": {},
   "outputs": [],
   "source": [
    "\"\"\"Gets caltrain timetable and processes it into a JSON\"\"\"\n",
    "\n",
    "import requests\n",
    "from bs4 import BeautifulSoup\n",
    "import pandas as pd\n",
    "import numpy as np\n"
   ]
  },
  {
   "cell_type": "code",
   "execution_count": 3,
   "metadata": {},
   "outputs": [
    {
     "ename": "ValueError",
     "evalue": "No tables found",
     "output_type": "error",
     "traceback": [
      "\u001b[0;31m---------------------------------------------------------------------------\u001b[0m",
      "\u001b[0;31mValueError\u001b[0m                                Traceback (most recent call last)",
      "\u001b[1;32m/Users/ivan/Github/better-caltrain-timetable/generate.ipynb Cell 2'\u001b[0m in \u001b[0;36m<cell line: 42>\u001b[0;34m()\u001b[0m\n\u001b[1;32m     <a href='vscode-notebook-cell:/Users/ivan/Github/better-caltrain-timetable/generate.ipynb#ch0000001?line=34'>35</a>\u001b[0m     \u001b[39mreturn\u001b[39;00m js\n\u001b[1;32m     <a href='vscode-notebook-cell:/Users/ivan/Github/better-caltrain-timetable/generate.ipynb#ch0000001?line=36'>37</a>\u001b[0m \u001b[39m# for schedule_type, url, table_class, col_name in stuff:\u001b[39;00m\n\u001b[1;32m     <a href='vscode-notebook-cell:/Users/ivan/Github/better-caltrain-timetable/generate.ipynb#ch0000001?line=37'>38</a>\u001b[0m \u001b[39m#     print(\"\\n\\n\\n\\n\")\u001b[39;00m\n\u001b[1;32m     <a href='vscode-notebook-cell:/Users/ivan/Github/better-caltrain-timetable/generate.ipynb#ch0000001?line=38'>39</a>\u001b[0m \u001b[39m#     print(get_table(url, table_class, col_name))\u001b[39;00m\n\u001b[0;32m---> <a href='vscode-notebook-cell:/Users/ivan/Github/better-caltrain-timetable/generate.ipynb#ch0000001?line=41'>42</a>\u001b[0m get_table(\u001b[39m*\u001b[39;49mstuff[\u001b[39m0\u001b[39;49m])\n",
      "\u001b[1;32m/Users/ivan/Github/better-caltrain-timetable/generate.ipynb Cell 2'\u001b[0m in \u001b[0;36mget_table\u001b[0;34m(schedule_type, url, table_class, col_name)\u001b[0m\n\u001b[1;32m     <a href='vscode-notebook-cell:/Users/ivan/Github/better-caltrain-timetable/generate.ipynb#ch0000001?line=10'>11</a>\u001b[0m soup \u001b[39m=\u001b[39m BeautifulSoup(page\u001b[39m.\u001b[39mcontent, \u001b[39m'\u001b[39m\u001b[39mhtml.parser\u001b[39m\u001b[39m'\u001b[39m)\n\u001b[1;32m     <a href='vscode-notebook-cell:/Users/ivan/Github/better-caltrain-timetable/generate.ipynb#ch0000001?line=11'>12</a>\u001b[0m html \u001b[39m=\u001b[39m soup\u001b[39m.\u001b[39mfind(\u001b[39m\"\u001b[39m\u001b[39mtable\u001b[39m\u001b[39m\"\u001b[39m, {\u001b[39m\"\u001b[39m\u001b[39mclass\u001b[39m\u001b[39m\"\u001b[39m: table_class})\n\u001b[0;32m---> <a href='vscode-notebook-cell:/Users/ivan/Github/better-caltrain-timetable/generate.ipynb#ch0000001?line=12'>13</a>\u001b[0m df \u001b[39m=\u001b[39m pd\u001b[39m.\u001b[39;49mread_html(\u001b[39mstr\u001b[39;49m(html))[\u001b[39m0\u001b[39m]\u001b[39m.\u001b[39mtranspose()\n\u001b[1;32m     <a href='vscode-notebook-cell:/Users/ivan/Github/better-caltrain-timetable/generate.ipynb#ch0000001?line=14'>15</a>\u001b[0m \u001b[39m# clean up nans and weird characters\u001b[39;00m\n\u001b[1;32m     <a href='vscode-notebook-cell:/Users/ivan/Github/better-caltrain-timetable/generate.ipynb#ch0000001?line=15'>16</a>\u001b[0m df \u001b[39m=\u001b[39m df\u001b[39m.\u001b[39mreplace(np\u001b[39m.\u001b[39mNaN, \u001b[39m\"\u001b[39m\u001b[39m-\u001b[39m\u001b[39m\"\u001b[39m)\n",
      "File \u001b[0;32m~/Github/better-caltrain-timetable/.venv/lib/python3.8/site-packages/pandas/util/_decorators.py:311\u001b[0m, in \u001b[0;36mdeprecate_nonkeyword_arguments.<locals>.decorate.<locals>.wrapper\u001b[0;34m(*args, **kwargs)\u001b[0m\n\u001b[1;32m    <a href='file:///Users/ivan/Github/better-caltrain-timetable/.venv/lib/python3.8/site-packages/pandas/util/_decorators.py?line=304'>305</a>\u001b[0m \u001b[39mif\u001b[39;00m \u001b[39mlen\u001b[39m(args) \u001b[39m>\u001b[39m num_allow_args:\n\u001b[1;32m    <a href='file:///Users/ivan/Github/better-caltrain-timetable/.venv/lib/python3.8/site-packages/pandas/util/_decorators.py?line=305'>306</a>\u001b[0m     warnings\u001b[39m.\u001b[39mwarn(\n\u001b[1;32m    <a href='file:///Users/ivan/Github/better-caltrain-timetable/.venv/lib/python3.8/site-packages/pandas/util/_decorators.py?line=306'>307</a>\u001b[0m         msg\u001b[39m.\u001b[39mformat(arguments\u001b[39m=\u001b[39marguments),\n\u001b[1;32m    <a href='file:///Users/ivan/Github/better-caltrain-timetable/.venv/lib/python3.8/site-packages/pandas/util/_decorators.py?line=307'>308</a>\u001b[0m         \u001b[39mFutureWarning\u001b[39;00m,\n\u001b[1;32m    <a href='file:///Users/ivan/Github/better-caltrain-timetable/.venv/lib/python3.8/site-packages/pandas/util/_decorators.py?line=308'>309</a>\u001b[0m         stacklevel\u001b[39m=\u001b[39mstacklevel,\n\u001b[1;32m    <a href='file:///Users/ivan/Github/better-caltrain-timetable/.venv/lib/python3.8/site-packages/pandas/util/_decorators.py?line=309'>310</a>\u001b[0m     )\n\u001b[0;32m--> <a href='file:///Users/ivan/Github/better-caltrain-timetable/.venv/lib/python3.8/site-packages/pandas/util/_decorators.py?line=310'>311</a>\u001b[0m \u001b[39mreturn\u001b[39;00m func(\u001b[39m*\u001b[39;49margs, \u001b[39m*\u001b[39;49m\u001b[39m*\u001b[39;49mkwargs)\n",
      "File \u001b[0;32m~/Github/better-caltrain-timetable/.venv/lib/python3.8/site-packages/pandas/io/html.py:1113\u001b[0m, in \u001b[0;36mread_html\u001b[0;34m(io, match, flavor, header, index_col, skiprows, attrs, parse_dates, thousands, encoding, decimal, converters, na_values, keep_default_na, displayed_only)\u001b[0m\n\u001b[1;32m   <a href='file:///Users/ivan/Github/better-caltrain-timetable/.venv/lib/python3.8/site-packages/pandas/io/html.py?line=1108'>1109</a>\u001b[0m validate_header_arg(header)\n\u001b[1;32m   <a href='file:///Users/ivan/Github/better-caltrain-timetable/.venv/lib/python3.8/site-packages/pandas/io/html.py?line=1110'>1111</a>\u001b[0m io \u001b[39m=\u001b[39m stringify_path(io)\n\u001b[0;32m-> <a href='file:///Users/ivan/Github/better-caltrain-timetable/.venv/lib/python3.8/site-packages/pandas/io/html.py?line=1112'>1113</a>\u001b[0m \u001b[39mreturn\u001b[39;00m _parse(\n\u001b[1;32m   <a href='file:///Users/ivan/Github/better-caltrain-timetable/.venv/lib/python3.8/site-packages/pandas/io/html.py?line=1113'>1114</a>\u001b[0m     flavor\u001b[39m=\u001b[39;49mflavor,\n\u001b[1;32m   <a href='file:///Users/ivan/Github/better-caltrain-timetable/.venv/lib/python3.8/site-packages/pandas/io/html.py?line=1114'>1115</a>\u001b[0m     io\u001b[39m=\u001b[39;49mio,\n\u001b[1;32m   <a href='file:///Users/ivan/Github/better-caltrain-timetable/.venv/lib/python3.8/site-packages/pandas/io/html.py?line=1115'>1116</a>\u001b[0m     match\u001b[39m=\u001b[39;49mmatch,\n\u001b[1;32m   <a href='file:///Users/ivan/Github/better-caltrain-timetable/.venv/lib/python3.8/site-packages/pandas/io/html.py?line=1116'>1117</a>\u001b[0m     header\u001b[39m=\u001b[39;49mheader,\n\u001b[1;32m   <a href='file:///Users/ivan/Github/better-caltrain-timetable/.venv/lib/python3.8/site-packages/pandas/io/html.py?line=1117'>1118</a>\u001b[0m     index_col\u001b[39m=\u001b[39;49mindex_col,\n\u001b[1;32m   <a href='file:///Users/ivan/Github/better-caltrain-timetable/.venv/lib/python3.8/site-packages/pandas/io/html.py?line=1118'>1119</a>\u001b[0m     skiprows\u001b[39m=\u001b[39;49mskiprows,\n\u001b[1;32m   <a href='file:///Users/ivan/Github/better-caltrain-timetable/.venv/lib/python3.8/site-packages/pandas/io/html.py?line=1119'>1120</a>\u001b[0m     parse_dates\u001b[39m=\u001b[39;49mparse_dates,\n\u001b[1;32m   <a href='file:///Users/ivan/Github/better-caltrain-timetable/.venv/lib/python3.8/site-packages/pandas/io/html.py?line=1120'>1121</a>\u001b[0m     thousands\u001b[39m=\u001b[39;49mthousands,\n\u001b[1;32m   <a href='file:///Users/ivan/Github/better-caltrain-timetable/.venv/lib/python3.8/site-packages/pandas/io/html.py?line=1121'>1122</a>\u001b[0m     attrs\u001b[39m=\u001b[39;49mattrs,\n\u001b[1;32m   <a href='file:///Users/ivan/Github/better-caltrain-timetable/.venv/lib/python3.8/site-packages/pandas/io/html.py?line=1122'>1123</a>\u001b[0m     encoding\u001b[39m=\u001b[39;49mencoding,\n\u001b[1;32m   <a href='file:///Users/ivan/Github/better-caltrain-timetable/.venv/lib/python3.8/site-packages/pandas/io/html.py?line=1123'>1124</a>\u001b[0m     decimal\u001b[39m=\u001b[39;49mdecimal,\n\u001b[1;32m   <a href='file:///Users/ivan/Github/better-caltrain-timetable/.venv/lib/python3.8/site-packages/pandas/io/html.py?line=1124'>1125</a>\u001b[0m     converters\u001b[39m=\u001b[39;49mconverters,\n\u001b[1;32m   <a href='file:///Users/ivan/Github/better-caltrain-timetable/.venv/lib/python3.8/site-packages/pandas/io/html.py?line=1125'>1126</a>\u001b[0m     na_values\u001b[39m=\u001b[39;49mna_values,\n\u001b[1;32m   <a href='file:///Users/ivan/Github/better-caltrain-timetable/.venv/lib/python3.8/site-packages/pandas/io/html.py?line=1126'>1127</a>\u001b[0m     keep_default_na\u001b[39m=\u001b[39;49mkeep_default_na,\n\u001b[1;32m   <a href='file:///Users/ivan/Github/better-caltrain-timetable/.venv/lib/python3.8/site-packages/pandas/io/html.py?line=1127'>1128</a>\u001b[0m     displayed_only\u001b[39m=\u001b[39;49mdisplayed_only,\n\u001b[1;32m   <a href='file:///Users/ivan/Github/better-caltrain-timetable/.venv/lib/python3.8/site-packages/pandas/io/html.py?line=1128'>1129</a>\u001b[0m )\n",
      "File \u001b[0;32m~/Github/better-caltrain-timetable/.venv/lib/python3.8/site-packages/pandas/io/html.py:939\u001b[0m, in \u001b[0;36m_parse\u001b[0;34m(flavor, io, match, attrs, encoding, displayed_only, **kwargs)\u001b[0m\n\u001b[1;32m    <a href='file:///Users/ivan/Github/better-caltrain-timetable/.venv/lib/python3.8/site-packages/pandas/io/html.py?line=936'>937</a>\u001b[0m \u001b[39melse\u001b[39;00m:\n\u001b[1;32m    <a href='file:///Users/ivan/Github/better-caltrain-timetable/.venv/lib/python3.8/site-packages/pandas/io/html.py?line=937'>938</a>\u001b[0m     \u001b[39massert\u001b[39;00m retained \u001b[39mis\u001b[39;00m \u001b[39mnot\u001b[39;00m \u001b[39mNone\u001b[39;00m  \u001b[39m# for mypy\u001b[39;00m\n\u001b[0;32m--> <a href='file:///Users/ivan/Github/better-caltrain-timetable/.venv/lib/python3.8/site-packages/pandas/io/html.py?line=938'>939</a>\u001b[0m     \u001b[39mraise\u001b[39;00m retained\n\u001b[1;32m    <a href='file:///Users/ivan/Github/better-caltrain-timetable/.venv/lib/python3.8/site-packages/pandas/io/html.py?line=940'>941</a>\u001b[0m ret \u001b[39m=\u001b[39m []\n\u001b[1;32m    <a href='file:///Users/ivan/Github/better-caltrain-timetable/.venv/lib/python3.8/site-packages/pandas/io/html.py?line=941'>942</a>\u001b[0m \u001b[39mfor\u001b[39;00m table \u001b[39min\u001b[39;00m tables:\n",
      "File \u001b[0;32m~/Github/better-caltrain-timetable/.venv/lib/python3.8/site-packages/pandas/io/html.py:919\u001b[0m, in \u001b[0;36m_parse\u001b[0;34m(flavor, io, match, attrs, encoding, displayed_only, **kwargs)\u001b[0m\n\u001b[1;32m    <a href='file:///Users/ivan/Github/better-caltrain-timetable/.venv/lib/python3.8/site-packages/pandas/io/html.py?line=915'>916</a>\u001b[0m p \u001b[39m=\u001b[39m parser(io, compiled_match, attrs, encoding, displayed_only)\n\u001b[1;32m    <a href='file:///Users/ivan/Github/better-caltrain-timetable/.venv/lib/python3.8/site-packages/pandas/io/html.py?line=917'>918</a>\u001b[0m \u001b[39mtry\u001b[39;00m:\n\u001b[0;32m--> <a href='file:///Users/ivan/Github/better-caltrain-timetable/.venv/lib/python3.8/site-packages/pandas/io/html.py?line=918'>919</a>\u001b[0m     tables \u001b[39m=\u001b[39m p\u001b[39m.\u001b[39;49mparse_tables()\n\u001b[1;32m    <a href='file:///Users/ivan/Github/better-caltrain-timetable/.venv/lib/python3.8/site-packages/pandas/io/html.py?line=919'>920</a>\u001b[0m \u001b[39mexcept\u001b[39;00m \u001b[39mValueError\u001b[39;00m \u001b[39mas\u001b[39;00m caught:\n\u001b[1;32m    <a href='file:///Users/ivan/Github/better-caltrain-timetable/.venv/lib/python3.8/site-packages/pandas/io/html.py?line=920'>921</a>\u001b[0m     \u001b[39m# if `io` is an io-like object, check if it's seekable\u001b[39;00m\n\u001b[1;32m    <a href='file:///Users/ivan/Github/better-caltrain-timetable/.venv/lib/python3.8/site-packages/pandas/io/html.py?line=921'>922</a>\u001b[0m     \u001b[39m# and try to rewind it before trying the next parser\u001b[39;00m\n\u001b[1;32m    <a href='file:///Users/ivan/Github/better-caltrain-timetable/.venv/lib/python3.8/site-packages/pandas/io/html.py?line=922'>923</a>\u001b[0m     \u001b[39mif\u001b[39;00m \u001b[39mhasattr\u001b[39m(io, \u001b[39m\"\u001b[39m\u001b[39mseekable\u001b[39m\u001b[39m\"\u001b[39m) \u001b[39mand\u001b[39;00m io\u001b[39m.\u001b[39mseekable():\n",
      "File \u001b[0;32m~/Github/better-caltrain-timetable/.venv/lib/python3.8/site-packages/pandas/io/html.py:239\u001b[0m, in \u001b[0;36m_HtmlFrameParser.parse_tables\u001b[0;34m(self)\u001b[0m\n\u001b[1;32m    <a href='file:///Users/ivan/Github/better-caltrain-timetable/.venv/lib/python3.8/site-packages/pandas/io/html.py?line=230'>231</a>\u001b[0m \u001b[39mdef\u001b[39;00m \u001b[39mparse_tables\u001b[39m(\u001b[39mself\u001b[39m):\n\u001b[1;32m    <a href='file:///Users/ivan/Github/better-caltrain-timetable/.venv/lib/python3.8/site-packages/pandas/io/html.py?line=231'>232</a>\u001b[0m     \u001b[39m\"\"\"\u001b[39;00m\n\u001b[1;32m    <a href='file:///Users/ivan/Github/better-caltrain-timetable/.venv/lib/python3.8/site-packages/pandas/io/html.py?line=232'>233</a>\u001b[0m \u001b[39m    Parse and return all tables from the DOM.\u001b[39;00m\n\u001b[1;32m    <a href='file:///Users/ivan/Github/better-caltrain-timetable/.venv/lib/python3.8/site-packages/pandas/io/html.py?line=233'>234</a>\u001b[0m \n\u001b[0;32m   (...)\u001b[0m\n\u001b[1;32m    <a href='file:///Users/ivan/Github/better-caltrain-timetable/.venv/lib/python3.8/site-packages/pandas/io/html.py?line=236'>237</a>\u001b[0m \u001b[39m    list of parsed (header, body, footer) tuples from tables.\u001b[39;00m\n\u001b[1;32m    <a href='file:///Users/ivan/Github/better-caltrain-timetable/.venv/lib/python3.8/site-packages/pandas/io/html.py?line=237'>238</a>\u001b[0m \u001b[39m    \"\"\"\u001b[39;00m\n\u001b[0;32m--> <a href='file:///Users/ivan/Github/better-caltrain-timetable/.venv/lib/python3.8/site-packages/pandas/io/html.py?line=238'>239</a>\u001b[0m     tables \u001b[39m=\u001b[39m \u001b[39mself\u001b[39;49m\u001b[39m.\u001b[39;49m_parse_tables(\u001b[39mself\u001b[39;49m\u001b[39m.\u001b[39;49m_build_doc(), \u001b[39mself\u001b[39;49m\u001b[39m.\u001b[39;49mmatch, \u001b[39mself\u001b[39;49m\u001b[39m.\u001b[39;49mattrs)\n\u001b[1;32m    <a href='file:///Users/ivan/Github/better-caltrain-timetable/.venv/lib/python3.8/site-packages/pandas/io/html.py?line=239'>240</a>\u001b[0m     \u001b[39mreturn\u001b[39;00m (\u001b[39mself\u001b[39m\u001b[39m.\u001b[39m_parse_thead_tbody_tfoot(table) \u001b[39mfor\u001b[39;00m table \u001b[39min\u001b[39;00m tables)\n",
      "File \u001b[0;32m~/Github/better-caltrain-timetable/.venv/lib/python3.8/site-packages/pandas/io/html.py:569\u001b[0m, in \u001b[0;36m_BeautifulSoupHtml5LibFrameParser._parse_tables\u001b[0;34m(self, doc, match, attrs)\u001b[0m\n\u001b[1;32m    <a href='file:///Users/ivan/Github/better-caltrain-timetable/.venv/lib/python3.8/site-packages/pandas/io/html.py?line=565'>566</a>\u001b[0m tables \u001b[39m=\u001b[39m doc\u001b[39m.\u001b[39mfind_all(element_name, attrs\u001b[39m=\u001b[39mattrs)\n\u001b[1;32m    <a href='file:///Users/ivan/Github/better-caltrain-timetable/.venv/lib/python3.8/site-packages/pandas/io/html.py?line=567'>568</a>\u001b[0m \u001b[39mif\u001b[39;00m \u001b[39mnot\u001b[39;00m tables:\n\u001b[0;32m--> <a href='file:///Users/ivan/Github/better-caltrain-timetable/.venv/lib/python3.8/site-packages/pandas/io/html.py?line=568'>569</a>\u001b[0m     \u001b[39mraise\u001b[39;00m \u001b[39mValueError\u001b[39;00m(\u001b[39m\"\u001b[39m\u001b[39mNo tables found\u001b[39m\u001b[39m\"\u001b[39m)\n\u001b[1;32m    <a href='file:///Users/ivan/Github/better-caltrain-timetable/.venv/lib/python3.8/site-packages/pandas/io/html.py?line=570'>571</a>\u001b[0m result \u001b[39m=\u001b[39m []\n\u001b[1;32m    <a href='file:///Users/ivan/Github/better-caltrain-timetable/.venv/lib/python3.8/site-packages/pandas/io/html.py?line=571'>572</a>\u001b[0m unique_tables \u001b[39m=\u001b[39m \u001b[39mset\u001b[39m()\n",
      "\u001b[0;31mValueError\u001b[0m: No tables found"
     ]
    }
   ],
   "source": [
    "stuff = (\n",
    "    (\"weekday\", \"https://www.caltrain.com/schedules/weekdaytimetable.html\", \"NB_TT\", \"Northbound Train No.\"),\n",
    "    (\"weekday\", \"https://www.caltrain.com/schedules/weekdaytimetable.html\", \"SB_TT\", \"Southbound Train No.\"),\n",
    "    # (\"weekend\", \"https://www.caltrain.com/schedules/weekend-timetable.html\", \"NB_TT\", \"Train No.\"),\n",
    "    # (\"weekend\", \"https://www.caltrain.com/schedules/weekend-timetable.html\", \"SB_TT\", \"Train No.\"),\n",
    ")\n",
    "\n",
    "\n",
    "def get_table(schedule_type, url, table_class, col_name):\n",
    "    page = requests.get(url)\n",
    "    soup = BeautifulSoup(page.content, 'html.parser')\n",
    "    html = soup.find(\"table\", {\"class\": table_class})\n",
    "    df = pd.read_html(str(html))[0].transpose()\n",
    "\n",
    "    # clean up nans and weird characters\n",
    "    df = df.replace(np.NaN, \"-\")\n",
    "    df = df.replace(\"–\", \"-\")\n",
    "\n",
    "    # do index stuff\n",
    "    if schedule_type == \"weekday\":\n",
    "        df = df[1:]\n",
    "        df = df.reset_index(level=0)\n",
    "        df = df.rename(columns=df.iloc[0])\n",
    "    elif schedule_type == \"weekend\":\n",
    "        df = df[1:]\n",
    "\n",
    "    # drop unneeded columns + rows\n",
    "    df = df[[x[0] not in \"NSZ\" for x in df[col_name]]]\n",
    "    df = df.drop(\"Service Type\", 1)\n",
    "\n",
    "    # get a dict\n",
    "    js = df.to_dict(orient=\"split\")\n",
    "    del js[\"index\"]\n",
    "    return js\n",
    "    \n",
    "# for schedule_type, url, table_class, col_name in stuff:\n",
    "#     print(\"\\n\\n\\n\\n\")\n",
    "#     print(get_table(url, table_class, col_name))\n",
    "\n",
    "\n",
    "get_table(*stuff[0])\n",
    "\n",
    "# for schedule_type, url, table_class, col_name in stuff:\n",
    "#     print(\"\\n\\n\\n\\n\")\n"
   ]
  },
  {
   "cell_type": "code",
   "execution_count": null,
   "metadata": {},
   "outputs": [],
   "source": []
  }
 ],
 "metadata": {
  "interpreter": {
   "hash": "995d7fd3203ec1932a2da71e56b2f99239ba7d37654c77a6f0cc3a31126d0d1c"
  },
  "kernelspec": {
   "display_name": "Python 3.8.9 ('.venv': venv)",
   "language": "python",
   "name": "python3"
  },
  "language_info": {
   "codemirror_mode": {
    "name": "ipython",
    "version": 3
   },
   "file_extension": ".py",
   "mimetype": "text/x-python",
   "name": "python",
   "nbconvert_exporter": "python",
   "pygments_lexer": "ipython3",
   "version": "3.8.9"
  },
  "orig_nbformat": 4
 },
 "nbformat": 4,
 "nbformat_minor": 2
}
